{
  "nbformat": 4,
  "nbformat_minor": 0,
  "metadata": {
    "colab": {
      "provenance": [],
      "mount_file_id": "1a4IziZTUy0pPQ8_jI6F1M1IrhY6RARAG",
      "authorship_tag": "ABX9TyOk9nVt3ZdtM1tAgWZq4/XY",
      "include_colab_link": true
    },
    "kernelspec": {
      "name": "python3",
      "display_name": "Python 3"
    },
    "language_info": {
      "name": "python"
    }
  },
  "cells": [
    {
      "cell_type": "markdown",
      "metadata": {
        "id": "view-in-github",
        "colab_type": "text"
      },
      "source": [
        "<a href=\"https://colab.research.google.com/github/kyleabrahams/Bootstrap/blob/Basic/EPG.ipynb\" target=\"_parent\"><img src=\"https://colab.research.google.com/assets/colab-badge.svg\" alt=\"Open In Colab\"/></a>"
      ]
    },
    {
      "cell_type": "code",
      "source": [
        "# Install required libraries\n",
        "!pip install requests beautifulsoup4\n"
      ],
      "metadata": {
        "colab": {
          "base_uri": "https://localhost:8080/"
        },
        "id": "yLMwTM0yjr0x",
        "outputId": "1efb9022-a4f0-48a3-947d-0e799db88ed4"
      },
      "execution_count": 1,
      "outputs": [
        {
          "output_type": "stream",
          "name": "stdout",
          "text": [
            "Requirement already satisfied: requests in /usr/local/lib/python3.10/dist-packages (2.32.3)\n",
            "Requirement already satisfied: beautifulsoup4 in /usr/local/lib/python3.10/dist-packages (4.12.3)\n",
            "Requirement already satisfied: charset-normalizer<4,>=2 in /usr/local/lib/python3.10/dist-packages (from requests) (3.4.0)\n",
            "Requirement already satisfied: idna<4,>=2.5 in /usr/local/lib/python3.10/dist-packages (from requests) (3.10)\n",
            "Requirement already satisfied: urllib3<3,>=1.21.1 in /usr/local/lib/python3.10/dist-packages (from requests) (2.2.3)\n",
            "Requirement already satisfied: certifi>=2017.4.17 in /usr/local/lib/python3.10/dist-packages (from requests) (2024.8.30)\n",
            "Requirement already satisfied: soupsieve>1.2 in /usr/local/lib/python3.10/dist-packages (from beautifulsoup4) (2.6)\n"
          ]
        }
      ]
    },
    {
      "cell_type": "code",
      "execution_count": 2,
      "metadata": {
        "id": "xNI_LEeOjnUd"
      },
      "outputs": [],
      "source": [
        "import requests\n",
        "import xml.etree.ElementTree as ET\n",
        "import logging\n",
        "import os\n",
        "\n",
        "# List of EPG sources to merge run it\n",
        "# python3 merge_epg.py\n",
        "# sudo chown -R $(whoami):admin /opt/homebrew/var/log/nginx\n",
        "# sudo chmod -R 755 /opt/homebrew/var/log/nginx\n",
        "# brew services restart nginx\n",
        "\n",
        "# Set up logging\n",
        "logging.basicConfig(level=logging.INFO, format='%(asctime)s - %(levelname)s - %(message)s')\n",
        "\n",
        "\n",
        "# List of EPG source URLs to merge\n",
        "epg_urls = [\n",
        "    \"https://www.bevy.be/bevyfiles/canadapremium.xml\", # Replace with actual URL\n",
        "    \"https://www.bevy.be/bevyfiles/canadapremium2.xml\",\n",
        "    \"https://www.bevy.be/bevyfiles/canadapremium3.xml\",\n",
        "    \"https://www.bevy.be/bevyfiles/canada.xml\",\n",
        "    \"https://www.bevy.be/bevyfiles/unitedstatespremium1.xml\",\n",
        "    \"https://www.bevy.be/bevyfiles/unitedstatespremium2.xml\",\n",
        "    \"https://www.bevy.be/bevyfiles/unitedstatespremium3.xml\",\n",
        "    \"https://www.bevy.be/bevyfiles/unitedstatespremium4.xml\",\n",
        "    \"https://www.bevy.be/bevyfiles/unitedstatespremium5.xml\",\n",
        "    \"https://www.bevy.be/bevyfiles/unitedstatespremium6.xml\",\n",
        "    \"https://www.bevy.be/bevyfiles/unitedstatespremium7.xml\",\n",
        "    \"https://i.mjh.nz/SamsungTVPlus/all.xml\",\n",
        "    \"https://i.mjh.nz/PlutoTV/ca.xml\",\n",
        "    \"https://i.mjh.nz/Plex/all.xml\",\n",
        "    \"https://www.bevy.be/bevyfiles/unitedkingdom.xml\",\n",
        "    \"https://www.bevy.be/bevyfiles/unitedkingdompremium1.xml\",\n",
        "    \"https://www.bevy.be/bevyfiles/unitedkingdompremium2.xml\",\n",
        "    \"https://www.bevy.be/bevyfiles/unitedkingdompremium3.xml\"\n",
        "]\n",
        "\n",
        "# Path to save the merged EPG file\n",
        "save_path = \"epg.xml\"  # Save in the current directory\n",
        "\n",
        "# Function to fetch and parse each EPG file\n",
        "def fetch_epg_data(url):\n",
        "    response = requests.get(url)\n",
        "    if response.status_code == 200:\n",
        "        if response.content.strip():\n",
        "            try:\n",
        "                epg_tree = ET.ElementTree(ET.fromstring(response.content))\n",
        "                return epg_tree\n",
        "            except ET.ParseError as e:\n",
        "                logging.error(f\"XML parse error for {url}: {e}\")\n",
        "                return None\n",
        "        else:\n",
        "            logging.warning(f\"No content fetched from {url}\")\n",
        "            return None\n",
        "    else:\n",
        "        logging.error(f\"Error fetching {url}: {response.status_code}\")\n",
        "        return None\n",
        "\n",
        "# Create root element for the merged EPG\n",
        "merged_root = ET.Element(\"tv\")\n",
        "\n",
        "# Fetch and merge EPG data\n",
        "seen_channels = set()\n",
        "for url in epg_urls:\n",
        "    logging.info(f\"Fetching EPG data from {url}\")\n",
        "    epg_tree = fetch_epg_data(url)\n",
        "    if epg_tree:\n",
        "        for element in epg_tree.getroot():\n",
        "            if element.tag == \"channel\" and element.attrib['id'] not in seen_channels:\n",
        "                merged_root.append(element)\n",
        "                seen_channels.add(element.attrib['id'])\n",
        "\n",
        "# Save merged EPG to file\n",
        "try:\n",
        "    merged_tree = ET.ElementTree(merged_root)\n",
        "    merged_tree.write(save_path, encoding=\"utf-8\", xml_declaration=True)\n",
        "    logging.info(f\"Merged EPG successfully saved to {save_path}\")\n",
        "except Exception as e:\n",
        "    logging.error(f\"Failed to save merged EPG - Error: {e}\")"
      ]
    }
  ]
}